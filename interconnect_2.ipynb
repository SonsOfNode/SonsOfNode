{
 "cells": [
  {
   "cell_type": "markdown",
   "id": "e3d61264",
   "metadata": {},
   "source": [
    "# Projeto - Interconnect\n",
    "-----------------------------------------\n",
    "\n",
    "## Objetivo:\n",
    "O objetivo deste plano de trabalho é desenvolver um modelo de predição de rotatividade de clientes para a operadora de comunicações Interconnect, usando técnicas de análise de dados e ciência de dados. O modelo ajudará a identificar clientes que planejam trocar de operadora, permitindo que a empresa tome medidas proativas para retê-los."
   ]
  },
  {
   "cell_type": "markdown",
   "id": "3205077c",
   "metadata": {},
   "source": [
    "## Etapas do Projeto:\n",
    "\n"
   ]
  },
  {
   "cell_type": "markdown",
   "id": "cf2c4c6e",
   "metadata": {},
   "source": [
    "### Importando a biblioteca pandas:"
   ]
  },
  {
   "cell_type": "code",
   "execution_count": 4,
   "id": "9933839b",
   "metadata": {},
   "outputs": [
    {
     "ename": "ModuleNotFoundError",
     "evalue": "No module named 'pandas'",
     "output_type": "error",
     "traceback": [
      "\u001b[1;31m---------------------------------------------------------------------------\u001b[0m",
      "\u001b[1;31mModuleNotFoundError\u001b[0m                       Traceback (most recent call last)",
      "\u001b[1;32mc:\\Users\\erick\\Desktop\\interconnect_2.ipynb Célula 4\u001b[0m line \u001b[0;36m1\n\u001b[1;32m----> <a href='vscode-notebook-cell:/c%3A/Users/erick/Desktop/interconnect_2.ipynb#W3sZmlsZQ%3D%3D?line=0'>1</a>\u001b[0m \u001b[39mimport\u001b[39;00m \u001b[39mpandas\u001b[39;00m \u001b[39mas\u001b[39;00m \u001b[39mpd\u001b[39;00m\n\u001b[0;32m      <a href='vscode-notebook-cell:/c%3A/Users/erick/Desktop/interconnect_2.ipynb#W3sZmlsZQ%3D%3D?line=1'>2</a>\u001b[0m \u001b[39mimport\u001b[39;00m \u001b[39mmatplotlib\u001b[39;00m\u001b[39m.\u001b[39;00m\u001b[39mpyplot\u001b[39;00m \u001b[39mas\u001b[39;00m \u001b[39mplt\u001b[39;00m\n\u001b[0;32m      <a href='vscode-notebook-cell:/c%3A/Users/erick/Desktop/interconnect_2.ipynb#W3sZmlsZQ%3D%3D?line=2'>3</a>\u001b[0m \u001b[39mimport\u001b[39;00m \u001b[39mseaborn\u001b[39;00m \u001b[39mas\u001b[39;00m \u001b[39msns\u001b[39;00m\n",
      "\u001b[1;31mModuleNotFoundError\u001b[0m: No module named 'pandas'"
     ]
    }
   ],
   "source": [
    "import pandas as pd\n",
    "import matplotlib.pyplot as plt\n",
    "import seaborn as sns\n",
    "from sklearn.preprocessing import MinMaxScaler\n",
    "import numpy as np\n",
    "from sklearn.model_selection import cross_val_score\n",
    "from sklearn.linear_model import LogisticRegression\n",
    "from sklearn.model_selection import train_test_split\n",
    "from sklearn.preprocessing import LabelEncoder, StandardScaler\n",
    "from sklearn.metrics import accuracy_score, precision_score, recall_score, f1_score, roc_auc_score\n",
    "from sklearn.metrics import accuracy_score"
   ]
  },
  {
   "cell_type": "markdown",
   "id": "cf7f959f",
   "metadata": {},
   "source": [
    "### Carregando os dataframes:"
   ]
  },
  {
   "cell_type": "code",
   "execution_count": null,
   "id": "8a17706e",
   "metadata": {},
   "outputs": [],
   "source": [
    "path = r'/datasets/final_provider/'\n",
    "\n",
    "contract_data = pd.read_csv(path + 'contract.csv')\n",
    "personal_data = pd.read_csv(path + 'personal.csv')\n",
    "internet_data = pd.read_csv(path + 'internet.csv')\n",
    "phone_data = pd.read_csv(path + 'phone.csv')"
   ]
  },
  {
   "cell_type": "markdown",
   "id": "484e56b1",
   "metadata": {},
   "source": [
    "#### Analisando as cinco primeiras linhas de cada DataFrame para avaliar seu conteúdo:"
   ]
  },
  {
   "cell_type": "code",
   "execution_count": null,
   "id": "30d1039a",
   "metadata": {},
   "outputs": [
    {
     "name": "stdout",
     "output_type": "stream",
     "text": [
      "Dados do Contrato:\n"
     ]
    },
    {
     "data": {
      "text/html": [
       "<div>\n",
       "<style scoped>\n",
       "    .dataframe tbody tr th:only-of-type {\n",
       "        vertical-align: middle;\n",
       "    }\n",
       "\n",
       "    .dataframe tbody tr th {\n",
       "        vertical-align: top;\n",
       "    }\n",
       "\n",
       "    .dataframe thead th {\n",
       "        text-align: right;\n",
       "    }\n",
       "</style>\n",
       "<table border=\"1\" class=\"dataframe\">\n",
       "  <thead>\n",
       "    <tr style=\"text-align: right;\">\n",
       "      <th></th>\n",
       "      <th>customerID</th>\n",
       "      <th>BeginDate</th>\n",
       "      <th>EndDate</th>\n",
       "      <th>Type</th>\n",
       "      <th>PaperlessBilling</th>\n",
       "      <th>PaymentMethod</th>\n",
       "      <th>MonthlyCharges</th>\n",
       "      <th>TotalCharges</th>\n",
       "    </tr>\n",
       "  </thead>\n",
       "  <tbody>\n",
       "    <tr>\n",
       "      <th>0</th>\n",
       "      <td>7590-VHVEG</td>\n",
       "      <td>2020-01-01</td>\n",
       "      <td>No</td>\n",
       "      <td>Month-to-month</td>\n",
       "      <td>Yes</td>\n",
       "      <td>Electronic check</td>\n",
       "      <td>29.85</td>\n",
       "      <td>29.85</td>\n",
       "    </tr>\n",
       "    <tr>\n",
       "      <th>1</th>\n",
       "      <td>5575-GNVDE</td>\n",
       "      <td>2017-04-01</td>\n",
       "      <td>No</td>\n",
       "      <td>One year</td>\n",
       "      <td>No</td>\n",
       "      <td>Mailed check</td>\n",
       "      <td>56.95</td>\n",
       "      <td>1889.5</td>\n",
       "    </tr>\n",
       "    <tr>\n",
       "      <th>2</th>\n",
       "      <td>3668-QPYBK</td>\n",
       "      <td>2019-10-01</td>\n",
       "      <td>2019-12-01 00:00:00</td>\n",
       "      <td>Month-to-month</td>\n",
       "      <td>Yes</td>\n",
       "      <td>Mailed check</td>\n",
       "      <td>53.85</td>\n",
       "      <td>108.15</td>\n",
       "    </tr>\n",
       "    <tr>\n",
       "      <th>3</th>\n",
       "      <td>7795-CFOCW</td>\n",
       "      <td>2016-05-01</td>\n",
       "      <td>No</td>\n",
       "      <td>One year</td>\n",
       "      <td>No</td>\n",
       "      <td>Bank transfer (automatic)</td>\n",
       "      <td>42.30</td>\n",
       "      <td>1840.75</td>\n",
       "    </tr>\n",
       "    <tr>\n",
       "      <th>4</th>\n",
       "      <td>9237-HQITU</td>\n",
       "      <td>2019-09-01</td>\n",
       "      <td>2019-11-01 00:00:00</td>\n",
       "      <td>Month-to-month</td>\n",
       "      <td>Yes</td>\n",
       "      <td>Electronic check</td>\n",
       "      <td>70.70</td>\n",
       "      <td>151.65</td>\n",
       "    </tr>\n",
       "  </tbody>\n",
       "</table>\n",
       "</div>"
      ],
      "text/plain": [
       "   customerID   BeginDate              EndDate            Type  \\\n",
       "0  7590-VHVEG  2020-01-01                   No  Month-to-month   \n",
       "1  5575-GNVDE  2017-04-01                   No        One year   \n",
       "2  3668-QPYBK  2019-10-01  2019-12-01 00:00:00  Month-to-month   \n",
       "3  7795-CFOCW  2016-05-01                   No        One year   \n",
       "4  9237-HQITU  2019-09-01  2019-11-01 00:00:00  Month-to-month   \n",
       "\n",
       "  PaperlessBilling              PaymentMethod  MonthlyCharges TotalCharges  \n",
       "0              Yes           Electronic check           29.85        29.85  \n",
       "1               No               Mailed check           56.95       1889.5  \n",
       "2              Yes               Mailed check           53.85       108.15  \n",
       "3               No  Bank transfer (automatic)           42.30      1840.75  \n",
       "4              Yes           Electronic check           70.70       151.65  "
      ]
     },
     "execution_count": 3,
     "metadata": {},
     "output_type": "execute_result"
    }
   ],
   "source": [
    "print(\"Dados do Contrato:\")\n",
    "contract_data.head()"
   ]
  },
  {
   "cell_type": "code",
   "execution_count": null,
   "id": "012768f0",
   "metadata": {},
   "outputs": [
    {
     "name": "stdout",
     "output_type": "stream",
     "text": [
      "\n",
      "Dados Pessoais:\n"
     ]
    },
    {
     "data": {
      "text/html": [
       "<div>\n",
       "<style scoped>\n",
       "    .dataframe tbody tr th:only-of-type {\n",
       "        vertical-align: middle;\n",
       "    }\n",
       "\n",
       "    .dataframe tbody tr th {\n",
       "        vertical-align: top;\n",
       "    }\n",
       "\n",
       "    .dataframe thead th {\n",
       "        text-align: right;\n",
       "    }\n",
       "</style>\n",
       "<table border=\"1\" class=\"dataframe\">\n",
       "  <thead>\n",
       "    <tr style=\"text-align: right;\">\n",
       "      <th></th>\n",
       "      <th>customerID</th>\n",
       "      <th>gender</th>\n",
       "      <th>SeniorCitizen</th>\n",
       "      <th>Partner</th>\n",
       "      <th>Dependents</th>\n",
       "    </tr>\n",
       "  </thead>\n",
       "  <tbody>\n",
       "    <tr>\n",
       "      <th>0</th>\n",
       "      <td>7590-VHVEG</td>\n",
       "      <td>Female</td>\n",
       "      <td>0</td>\n",
       "      <td>Yes</td>\n",
       "      <td>No</td>\n",
       "    </tr>\n",
       "    <tr>\n",
       "      <th>1</th>\n",
       "      <td>5575-GNVDE</td>\n",
       "      <td>Male</td>\n",
       "      <td>0</td>\n",
       "      <td>No</td>\n",
       "      <td>No</td>\n",
       "    </tr>\n",
       "    <tr>\n",
       "      <th>2</th>\n",
       "      <td>3668-QPYBK</td>\n",
       "      <td>Male</td>\n",
       "      <td>0</td>\n",
       "      <td>No</td>\n",
       "      <td>No</td>\n",
       "    </tr>\n",
       "    <tr>\n",
       "      <th>3</th>\n",
       "      <td>7795-CFOCW</td>\n",
       "      <td>Male</td>\n",
       "      <td>0</td>\n",
       "      <td>No</td>\n",
       "      <td>No</td>\n",
       "    </tr>\n",
       "    <tr>\n",
       "      <th>4</th>\n",
       "      <td>9237-HQITU</td>\n",
       "      <td>Female</td>\n",
       "      <td>0</td>\n",
       "      <td>No</td>\n",
       "      <td>No</td>\n",
       "    </tr>\n",
       "  </tbody>\n",
       "</table>\n",
       "</div>"
      ],
      "text/plain": [
       "   customerID  gender  SeniorCitizen Partner Dependents\n",
       "0  7590-VHVEG  Female              0     Yes         No\n",
       "1  5575-GNVDE    Male              0      No         No\n",
       "2  3668-QPYBK    Male              0      No         No\n",
       "3  7795-CFOCW    Male              0      No         No\n",
       "4  9237-HQITU  Female              0      No         No"
      ]
     },
     "execution_count": 4,
     "metadata": {},
     "output_type": "execute_result"
    }
   ],
   "source": [
    "print(\"\\nDados Pessoais:\")\n",
    "personal_data.head()"
   ]
  },
  {
   "cell_type": "code",
   "execution_count": null,
   "id": "d495f7b8",
   "metadata": {},
   "outputs": [
    {
     "name": "stdout",
     "output_type": "stream",
     "text": [
      "\n",
      "Dados de Internet:\n"
     ]
    },
    {
     "data": {
      "text/html": [
       "<div>\n",
       "<style scoped>\n",
       "    .dataframe tbody tr th:only-of-type {\n",
       "        vertical-align: middle;\n",
       "    }\n",
       "\n",
       "    .dataframe tbody tr th {\n",
       "        vertical-align: top;\n",
       "    }\n",
       "\n",
       "    .dataframe thead th {\n",
       "        text-align: right;\n",
       "    }\n",
       "</style>\n",
       "<table border=\"1\" class=\"dataframe\">\n",
       "  <thead>\n",
       "    <tr style=\"text-align: right;\">\n",
       "      <th></th>\n",
       "      <th>customerID</th>\n",
       "      <th>InternetService</th>\n",
       "      <th>OnlineSecurity</th>\n",
       "      <th>OnlineBackup</th>\n",
       "      <th>DeviceProtection</th>\n",
       "      <th>TechSupport</th>\n",
       "      <th>StreamingTV</th>\n",
       "      <th>StreamingMovies</th>\n",
       "    </tr>\n",
       "  </thead>\n",
       "  <tbody>\n",
       "    <tr>\n",
       "      <th>0</th>\n",
       "      <td>7590-VHVEG</td>\n",
       "      <td>DSL</td>\n",
       "      <td>No</td>\n",
       "      <td>Yes</td>\n",
       "      <td>No</td>\n",
       "      <td>No</td>\n",
       "      <td>No</td>\n",
       "      <td>No</td>\n",
       "    </tr>\n",
       "    <tr>\n",
       "      <th>1</th>\n",
       "      <td>5575-GNVDE</td>\n",
       "      <td>DSL</td>\n",
       "      <td>Yes</td>\n",
       "      <td>No</td>\n",
       "      <td>Yes</td>\n",
       "      <td>No</td>\n",
       "      <td>No</td>\n",
       "      <td>No</td>\n",
       "    </tr>\n",
       "    <tr>\n",
       "      <th>2</th>\n",
       "      <td>3668-QPYBK</td>\n",
       "      <td>DSL</td>\n",
       "      <td>Yes</td>\n",
       "      <td>Yes</td>\n",
       "      <td>No</td>\n",
       "      <td>No</td>\n",
       "      <td>No</td>\n",
       "      <td>No</td>\n",
       "    </tr>\n",
       "    <tr>\n",
       "      <th>3</th>\n",
       "      <td>7795-CFOCW</td>\n",
       "      <td>DSL</td>\n",
       "      <td>Yes</td>\n",
       "      <td>No</td>\n",
       "      <td>Yes</td>\n",
       "      <td>Yes</td>\n",
       "      <td>No</td>\n",
       "      <td>No</td>\n",
       "    </tr>\n",
       "    <tr>\n",
       "      <th>4</th>\n",
       "      <td>9237-HQITU</td>\n",
       "      <td>Fiber optic</td>\n",
       "      <td>No</td>\n",
       "      <td>No</td>\n",
       "      <td>No</td>\n",
       "      <td>No</td>\n",
       "      <td>No</td>\n",
       "      <td>No</td>\n",
       "    </tr>\n",
       "  </tbody>\n",
       "</table>\n",
       "</div>"
      ],
      "text/plain": [
       "   customerID InternetService OnlineSecurity OnlineBackup DeviceProtection  \\\n",
       "0  7590-VHVEG             DSL             No          Yes               No   \n",
       "1  5575-GNVDE             DSL            Yes           No              Yes   \n",
       "2  3668-QPYBK             DSL            Yes          Yes               No   \n",
       "3  7795-CFOCW             DSL            Yes           No              Yes   \n",
       "4  9237-HQITU     Fiber optic             No           No               No   \n",
       "\n",
       "  TechSupport StreamingTV StreamingMovies  \n",
       "0          No          No              No  \n",
       "1          No          No              No  \n",
       "2          No          No              No  \n",
       "3         Yes          No              No  \n",
       "4          No          No              No  "
      ]
     },
     "execution_count": 5,
     "metadata": {},
     "output_type": "execute_result"
    }
   ],
   "source": [
    "print(\"\\nDados de Internet:\")\n",
    "internet_data.head()"
   ]
  },
  {
   "cell_type": "code",
   "execution_count": null,
   "id": "d1bf4c0e",
   "metadata": {},
   "outputs": [
    {
     "name": "stdout",
     "output_type": "stream",
     "text": [
      "\n",
      "Dados de Telefone:\n"
     ]
    },
    {
     "data": {
      "text/html": [
       "<div>\n",
       "<style scoped>\n",
       "    .dataframe tbody tr th:only-of-type {\n",
       "        vertical-align: middle;\n",
       "    }\n",
       "\n",
       "    .dataframe tbody tr th {\n",
       "        vertical-align: top;\n",
       "    }\n",
       "\n",
       "    .dataframe thead th {\n",
       "        text-align: right;\n",
       "    }\n",
       "</style>\n",
       "<table border=\"1\" class=\"dataframe\">\n",
       "  <thead>\n",
       "    <tr style=\"text-align: right;\">\n",
       "      <th></th>\n",
       "      <th>customerID</th>\n",
       "      <th>MultipleLines</th>\n",
       "    </tr>\n",
       "  </thead>\n",
       "  <tbody>\n",
       "    <tr>\n",
       "      <th>0</th>\n",
       "      <td>5575-GNVDE</td>\n",
       "      <td>No</td>\n",
       "    </tr>\n",
       "    <tr>\n",
       "      <th>1</th>\n",
       "      <td>3668-QPYBK</td>\n",
       "      <td>No</td>\n",
       "    </tr>\n",
       "    <tr>\n",
       "      <th>2</th>\n",
       "      <td>9237-HQITU</td>\n",
       "      <td>No</td>\n",
       "    </tr>\n",
       "    <tr>\n",
       "      <th>3</th>\n",
       "      <td>9305-CDSKC</td>\n",
       "      <td>Yes</td>\n",
       "    </tr>\n",
       "    <tr>\n",
       "      <th>4</th>\n",
       "      <td>1452-KIOVK</td>\n",
       "      <td>Yes</td>\n",
       "    </tr>\n",
       "  </tbody>\n",
       "</table>\n",
       "</div>"
      ],
      "text/plain": [
       "   customerID MultipleLines\n",
       "0  5575-GNVDE            No\n",
       "1  3668-QPYBK            No\n",
       "2  9237-HQITU            No\n",
       "3  9305-CDSKC           Yes\n",
       "4  1452-KIOVK           Yes"
      ]
     },
     "execution_count": 6,
     "metadata": {},
     "output_type": "execute_result"
    }
   ],
   "source": [
    "print(\"\\nDados de Telefone:\")\n",
    "phone_data.head()"
   ]
  },
  {
   "cell_type": "markdown",
   "id": "56efae34",
   "metadata": {},
   "source": [
    "* Foram identificadas no DataFrame `contract_data` que possuem colunas numéricas ( `PaymentMethod`, `MonthlyCharges` e `TotalCharges`) que podem nos ajudar a identificar o perfil de cada cliente, podendo ser variáveis importantes para predição de rotatividade."
   ]
  },
  {
   "cell_type": "markdown",
   "id": "4e4a99e9",
   "metadata": {},
   "source": [
    "### Análise exploratória:"
   ]
  },
  {
   "cell_type": "markdown",
   "id": "69876c4c",
   "metadata": {},
   "source": [
    "* Inicialmente será feito a análise do conteúdo de cada coluna, para identificar possíveis valores com tipo diferente."
   ]
  },
  {
   "cell_type": "code",
   "execution_count": null,
   "id": "7bc5253f",
   "metadata": {},
   "outputs": [
    {
     "name": "stdout",
     "output_type": "stream",
     "text": [
      "<class 'pandas.core.frame.DataFrame'>\n",
      "RangeIndex: 7043 entries, 0 to 7042\n",
      "Data columns (total 8 columns):\n",
      " #   Column            Non-Null Count  Dtype  \n",
      "---  ------            --------------  -----  \n",
      " 0   customerID        7043 non-null   object \n",
      " 1   BeginDate         7043 non-null   object \n",
      " 2   EndDate           7043 non-null   object \n",
      " 3   Type              7043 non-null   object \n",
      " 4   PaperlessBilling  7043 non-null   object \n",
      " 5   PaymentMethod     7043 non-null   object \n",
      " 6   MonthlyCharges    7043 non-null   float64\n",
      " 7   TotalCharges      7043 non-null   object \n",
      "dtypes: float64(1), object(7)\n",
      "memory usage: 440.3+ KB\n"
     ]
    }
   ],
   "source": [
    "contract_data.info()"
   ]
  },
  {
   "cell_type": "code",
   "execution_count": null,
   "id": "ecbef277",
   "metadata": {},
   "outputs": [
    {
     "name": "stdout",
     "output_type": "stream",
     "text": [
      "<class 'pandas.core.frame.DataFrame'>\n",
      "RangeIndex: 7043 entries, 0 to 7042\n",
      "Data columns (total 5 columns):\n",
      " #   Column         Non-Null Count  Dtype \n",
      "---  ------         --------------  ----- \n",
      " 0   customerID     7043 non-null   object\n",
      " 1   gender         7043 non-null   object\n",
      " 2   SeniorCitizen  7043 non-null   int64 \n",
      " 3   Partner        7043 non-null   object\n",
      " 4   Dependents     7043 non-null   object\n",
      "dtypes: int64(1), object(4)\n",
      "memory usage: 275.2+ KB\n"
     ]
    }
   ],
   "source": [
    "personal_data.info()"
   ]
  },
  {
   "cell_type": "code",
   "execution_count": null,
   "id": "85b450ef",
   "metadata": {},
   "outputs": [
    {
     "name": "stdout",
     "output_type": "stream",
     "text": [
      "<class 'pandas.core.frame.DataFrame'>\n",
      "RangeIndex: 5517 entries, 0 to 5516\n",
      "Data columns (total 8 columns):\n",
      " #   Column            Non-Null Count  Dtype \n",
      "---  ------            --------------  ----- \n",
      " 0   customerID        5517 non-null   object\n",
      " 1   InternetService   5517 non-null   object\n",
      " 2   OnlineSecurity    5517 non-null   object\n",
      " 3   OnlineBackup      5517 non-null   object\n",
      " 4   DeviceProtection  5517 non-null   object\n",
      " 5   TechSupport       5517 non-null   object\n",
      " 6   StreamingTV       5517 non-null   object\n",
      " 7   StreamingMovies   5517 non-null   object\n",
      "dtypes: object(8)\n",
      "memory usage: 344.9+ KB\n"
     ]
    }
   ],
   "source": [
    "internet_data.info()"
   ]
  },
  {
   "cell_type": "code",
   "execution_count": null,
   "id": "5c301867",
   "metadata": {},
   "outputs": [
    {
     "name": "stdout",
     "output_type": "stream",
     "text": [
      "<class 'pandas.core.frame.DataFrame'>\n",
      "RangeIndex: 6361 entries, 0 to 6360\n",
      "Data columns (total 2 columns):\n",
      " #   Column         Non-Null Count  Dtype \n",
      "---  ------         --------------  ----- \n",
      " 0   customerID     6361 non-null   object\n",
      " 1   MultipleLines  6361 non-null   object\n",
      "dtypes: object(2)\n",
      "memory usage: 99.5+ KB\n"
     ]
    }
   ],
   "source": [
    "phone_data.info()"
   ]
  },
  {
   "cell_type": "markdown",
   "id": "cf9269c1",
   "metadata": {},
   "source": [
    "- Foram verificadas algumas colunas com valores diferentes do esperado e serão modificados logo abaixo:"
   ]
  },
  {
   "cell_type": "markdown",
   "id": "6587e7a1",
   "metadata": {},
   "source": [
    "### Substituindo os valores em branco por NaN"
   ]
  },
  {
   "cell_type": "code",
   "execution_count": null,
   "id": "288cc040",
   "metadata": {},
   "outputs": [],
   "source": [
    "contract_data['TotalCharges'] = contract_data['TotalCharges'].replace(' ', np.nan)"
   ]
  },
  {
   "cell_type": "markdown",
   "id": "3072ddab",
   "metadata": {},
   "source": [
    "### Converção da coluna `TotalCharges` para float"
   ]
  },
  {
   "cell_type": "code",
   "execution_count": null,
   "id": "4ba1eeaa",
   "metadata": {},
   "outputs": [],
   "source": [
    "\n",
    "contract_data['TotalCharges'] = pd.to_numeric(contract_data['TotalCharges'])"
   ]
  },
  {
   "cell_type": "markdown",
   "id": "416ce124",
   "metadata": {},
   "source": [
    "### Transformando a coluna `BeginDate` em datetime"
   ]
  },
  {
   "cell_type": "code",
   "execution_count": null,
   "id": "cda46b8f",
   "metadata": {},
   "outputs": [],
   "source": [
    "contract_data['BeginDate'] = pd.to_datetime(contract_data['BeginDate'])"
   ]
  },
  {
   "cell_type": "code",
   "execution_count": null,
   "id": "6c719ab4",
   "metadata": {},
   "outputs": [
    {
     "name": "stdout",
     "output_type": "stream",
     "text": [
      "<class 'pandas.core.frame.DataFrame'>\n",
      "RangeIndex: 7043 entries, 0 to 7042\n",
      "Data columns (total 8 columns):\n",
      " #   Column            Non-Null Count  Dtype         \n",
      "---  ------            --------------  -----         \n",
      " 0   customerID        7043 non-null   object        \n",
      " 1   BeginDate         7043 non-null   datetime64[ns]\n",
      " 2   EndDate           7043 non-null   object        \n",
      " 3   Type              7043 non-null   object        \n",
      " 4   PaperlessBilling  7043 non-null   object        \n",
      " 5   PaymentMethod     7043 non-null   object        \n",
      " 6   MonthlyCharges    7043 non-null   float64       \n",
      " 7   TotalCharges      7032 non-null   float64       \n",
      "dtypes: datetime64[ns](1), float64(2), object(5)\n",
      "memory usage: 440.3+ KB\n"
     ]
    }
   ],
   "source": [
    "contract_data.info()"
   ]
  },
  {
   "cell_type": "markdown",
   "id": "43156aac",
   "metadata": {},
   "source": [
    "## Combinação dos DataFrames"
   ]
  },
  {
   "cell_type": "markdown",
   "id": "5ba3670a",
   "metadata": {},
   "source": [
    "### Os dataframes serão combinados através da coluna de ID do cliente, essa ação tem o intuito do trabalhar com todas as informações em apenas um DataFrame:"
   ]
  },
  {
   "cell_type": "code",
   "execution_count": null,
   "id": "274ae8f1",
   "metadata": {},
   "outputs": [],
   "source": [
    "merged_data = pd.merge(contract_data, personal_data, on='customerID', how='inner')\n",
    "merged_data = pd.merge(merged_data, internet_data, on='customerID', how='left')\n",
    "merged_data = pd.merge(merged_data, phone_data, on='customerID', how='left')"
   ]
  },
  {
   "cell_type": "markdown",
   "id": "17ee230e",
   "metadata": {},
   "source": [
    "- Será avaliado as 5 primeiras linhas do DataFrame, se as colunas permaneceram conforme o código acima, se os tipos das variáveis se mantiveram:"
   ]
  },
  {
   "cell_type": "code",
   "execution_count": null,
   "id": "2f0fa553",
   "metadata": {},
   "outputs": [
    {
     "data": {
      "text/html": [
       "<div>\n",
       "<style scoped>\n",
       "    .dataframe tbody tr th:only-of-type {\n",
       "        vertical-align: middle;\n",
       "    }\n",
       "\n",
       "    .dataframe tbody tr th {\n",
       "        vertical-align: top;\n",
       "    }\n",
       "\n",
       "    .dataframe thead th {\n",
       "        text-align: right;\n",
       "    }\n",
       "</style>\n",
       "<table border=\"1\" class=\"dataframe\">\n",
       "  <thead>\n",
       "    <tr style=\"text-align: right;\">\n",
       "      <th></th>\n",
       "      <th>customerID</th>\n",
       "      <th>BeginDate</th>\n",
       "      <th>EndDate</th>\n",
       "      <th>Type</th>\n",
       "      <th>PaperlessBilling</th>\n",
       "      <th>PaymentMethod</th>\n",
       "      <th>MonthlyCharges</th>\n",
       "      <th>TotalCharges</th>\n",
       "      <th>gender</th>\n",
       "      <th>SeniorCitizen</th>\n",
       "      <th>Partner</th>\n",
       "      <th>Dependents</th>\n",
       "      <th>InternetService</th>\n",
       "      <th>OnlineSecurity</th>\n",
       "      <th>OnlineBackup</th>\n",
       "      <th>DeviceProtection</th>\n",
       "      <th>TechSupport</th>\n",
       "      <th>StreamingTV</th>\n",
       "      <th>StreamingMovies</th>\n",
       "      <th>MultipleLines</th>\n",
       "    </tr>\n",
       "  </thead>\n",
       "  <tbody>\n",
       "    <tr>\n",
       "      <th>0</th>\n",
       "      <td>7590-VHVEG</td>\n",
       "      <td>2020-01-01</td>\n",
       "      <td>No</td>\n",
       "      <td>Month-to-month</td>\n",
       "      <td>Yes</td>\n",
       "      <td>Electronic check</td>\n",
       "      <td>29.85</td>\n",
       "      <td>29.85</td>\n",
       "      <td>Female</td>\n",
       "      <td>0</td>\n",
       "      <td>Yes</td>\n",
       "      <td>No</td>\n",
       "      <td>DSL</td>\n",
       "      <td>No</td>\n",
       "      <td>Yes</td>\n",
       "      <td>No</td>\n",
       "      <td>No</td>\n",
       "      <td>No</td>\n",
       "      <td>No</td>\n",
       "      <td>NaN</td>\n",
       "    </tr>\n",
       "    <tr>\n",
       "      <th>1</th>\n",
       "      <td>5575-GNVDE</td>\n",
       "      <td>2017-04-01</td>\n",
       "      <td>No</td>\n",
       "      <td>One year</td>\n",
       "      <td>No</td>\n",
       "      <td>Mailed check</td>\n",
       "      <td>56.95</td>\n",
       "      <td>1889.50</td>\n",
       "      <td>Male</td>\n",
       "      <td>0</td>\n",
       "      <td>No</td>\n",
       "      <td>No</td>\n",
       "      <td>DSL</td>\n",
       "      <td>Yes</td>\n",
       "      <td>No</td>\n",
       "      <td>Yes</td>\n",
       "      <td>No</td>\n",
       "      <td>No</td>\n",
       "      <td>No</td>\n",
       "      <td>No</td>\n",
       "    </tr>\n",
       "    <tr>\n",
       "      <th>2</th>\n",
       "      <td>3668-QPYBK</td>\n",
       "      <td>2019-10-01</td>\n",
       "      <td>2019-12-01 00:00:00</td>\n",
       "      <td>Month-to-month</td>\n",
       "      <td>Yes</td>\n",
       "      <td>Mailed check</td>\n",
       "      <td>53.85</td>\n",
       "      <td>108.15</td>\n",
       "      <td>Male</td>\n",
       "      <td>0</td>\n",
       "      <td>No</td>\n",
       "      <td>No</td>\n",
       "      <td>DSL</td>\n",
       "      <td>Yes</td>\n",
       "      <td>Yes</td>\n",
       "      <td>No</td>\n",
       "      <td>No</td>\n",
       "      <td>No</td>\n",
       "      <td>No</td>\n",
       "      <td>No</td>\n",
       "    </tr>\n",
       "    <tr>\n",
       "      <th>3</th>\n",
       "      <td>7795-CFOCW</td>\n",
       "      <td>2016-05-01</td>\n",
       "      <td>No</td>\n",
       "      <td>One year</td>\n",
       "      <td>No</td>\n",
       "      <td>Bank transfer (automatic)</td>\n",
       "      <td>42.30</td>\n",
       "      <td>1840.75</td>\n",
       "      <td>Male</td>\n",
       "      <td>0</td>\n",
       "      <td>No</td>\n",
       "      <td>No</td>\n",
       "      <td>DSL</td>\n",
       "      <td>Yes</td>\n",
       "      <td>No</td>\n",
       "      <td>Yes</td>\n",
       "      <td>Yes</td>\n",
       "      <td>No</td>\n",
       "      <td>No</td>\n",
       "      <td>NaN</td>\n",
       "    </tr>\n",
       "    <tr>\n",
       "      <th>4</th>\n",
       "      <td>9237-HQITU</td>\n",
       "      <td>2019-09-01</td>\n",
       "      <td>2019-11-01 00:00:00</td>\n",
       "      <td>Month-to-month</td>\n",
       "      <td>Yes</td>\n",
       "      <td>Electronic check</td>\n",
       "      <td>70.70</td>\n",
       "      <td>151.65</td>\n",
       "      <td>Female</td>\n",
       "      <td>0</td>\n",
       "      <td>No</td>\n",
       "      <td>No</td>\n",
       "      <td>Fiber optic</td>\n",
       "      <td>No</td>\n",
       "      <td>No</td>\n",
       "      <td>No</td>\n",
       "      <td>No</td>\n",
       "      <td>No</td>\n",
       "      <td>No</td>\n",
       "      <td>No</td>\n",
       "    </tr>\n",
       "  </tbody>\n",
       "</table>\n",
       "</div>"
      ],
      "text/plain": [
       "   customerID  BeginDate              EndDate            Type  \\\n",
       "0  7590-VHVEG 2020-01-01                   No  Month-to-month   \n",
       "1  5575-GNVDE 2017-04-01                   No        One year   \n",
       "2  3668-QPYBK 2019-10-01  2019-12-01 00:00:00  Month-to-month   \n",
       "3  7795-CFOCW 2016-05-01                   No        One year   \n",
       "4  9237-HQITU 2019-09-01  2019-11-01 00:00:00  Month-to-month   \n",
       "\n",
       "  PaperlessBilling              PaymentMethod  MonthlyCharges  TotalCharges  \\\n",
       "0              Yes           Electronic check           29.85         29.85   \n",
       "1               No               Mailed check           56.95       1889.50   \n",
       "2              Yes               Mailed check           53.85        108.15   \n",
       "3               No  Bank transfer (automatic)           42.30       1840.75   \n",
       "4              Yes           Electronic check           70.70        151.65   \n",
       "\n",
       "   gender  SeniorCitizen Partner Dependents InternetService OnlineSecurity  \\\n",
       "0  Female              0     Yes         No             DSL             No   \n",
       "1    Male              0      No         No             DSL            Yes   \n",
       "2    Male              0      No         No             DSL            Yes   \n",
       "3    Male              0      No         No             DSL            Yes   \n",
       "4  Female              0      No         No     Fiber optic             No   \n",
       "\n",
       "  OnlineBackup DeviceProtection TechSupport StreamingTV StreamingMovies  \\\n",
       "0          Yes               No          No          No              No   \n",
       "1           No              Yes          No          No              No   \n",
       "2          Yes               No          No          No              No   \n",
       "3           No              Yes         Yes          No              No   \n",
       "4           No               No          No          No              No   \n",
       "\n",
       "  MultipleLines  \n",
       "0           NaN  \n",
       "1            No  \n",
       "2            No  \n",
       "3           NaN  \n",
       "4            No  "
      ]
     },
     "execution_count": 16,
     "metadata": {},
     "output_type": "execute_result"
    }
   ],
   "source": [
    "merged_data.head()"
   ]
  },
  {
   "cell_type": "code",
   "execution_count": null,
   "id": "bb7df2fc",
   "metadata": {},
   "outputs": [
    {
     "name": "stdout",
     "output_type": "stream",
     "text": [
      "<class 'pandas.core.frame.DataFrame'>\n",
      "Int64Index: 7043 entries, 0 to 7042\n",
      "Data columns (total 20 columns):\n",
      " #   Column            Non-Null Count  Dtype         \n",
      "---  ------            --------------  -----         \n",
      " 0   customerID        7043 non-null   object        \n",
      " 1   BeginDate         7043 non-null   datetime64[ns]\n",
      " 2   EndDate           7043 non-null   object        \n",
      " 3   Type              7043 non-null   object        \n",
      " 4   PaperlessBilling  7043 non-null   object        \n",
      " 5   PaymentMethod     7043 non-null   object        \n",
      " 6   MonthlyCharges    7043 non-null   float64       \n",
      " 7   TotalCharges      7032 non-null   float64       \n",
      " 8   gender            7043 non-null   object        \n",
      " 9   SeniorCitizen     7043 non-null   int64         \n",
      " 10  Partner           7043 non-null   object        \n",
      " 11  Dependents        7043 non-null   object        \n",
      " 12  InternetService   5517 non-null   object        \n",
      " 13  OnlineSecurity    5517 non-null   object        \n",
      " 14  OnlineBackup      5517 non-null   object        \n",
      " 15  DeviceProtection  5517 non-null   object        \n",
      " 16  TechSupport       5517 non-null   object        \n",
      " 17  StreamingTV       5517 non-null   object        \n",
      " 18  StreamingMovies   5517 non-null   object        \n",
      " 19  MultipleLines     6361 non-null   object        \n",
      "dtypes: datetime64[ns](1), float64(2), int64(1), object(16)\n",
      "memory usage: 1.1+ MB\n"
     ]
    }
   ],
   "source": [
    "merged_data.info()"
   ]
  },
  {
   "cell_type": "markdown",
   "id": "2ecc0f84",
   "metadata": {},
   "source": [
    "- Foi avaliado que possuímos valores ausentes, em seguida será avaliádo os valores da média, mediana, e outliers das colunas numéricas:"
   ]
  },
  {
   "cell_type": "code",
   "execution_count": null,
   "id": "659a1e71",
   "metadata": {},
   "outputs": [
    {
     "name": "stdout",
     "output_type": "stream",
     "text": [
      "       MonthlyCharges  TotalCharges  SeniorCitizen\n",
      "count     7043.000000   7032.000000    7043.000000\n",
      "mean        64.761692   2283.300441       0.162147\n",
      "std         30.090047   2266.771362       0.368612\n",
      "min         18.250000     18.800000       0.000000\n",
      "25%         35.500000    401.450000       0.000000\n",
      "50%         70.350000   1397.475000       0.000000\n",
      "75%         89.850000   3794.737500       0.000000\n",
      "max        118.750000   8684.800000       1.000000\n"
     ]
    }
   ],
   "source": [
    "numeric_cols = merged_data.select_dtypes(include=['int64', 'float64'])\n",
    "print(numeric_cols.describe())"
   ]
  },
  {
   "cell_type": "markdown",
   "id": "50f6cf08",
   "metadata": {},
   "source": [
    "### Elaboração de gráficos de boxplot para verificação de outliers:"
   ]
  },
  {
   "cell_type": "code",
   "execution_count": null,
   "id": "840004b3",
   "metadata": {},
   "outputs": [
    {
     "data": {
      "image/png": "[encoded data removed]",
      "text/plain": [
       "<Figure size 1080x360 with 3 Axes>"
      ]
     },
     "metadata": {
      "needs_background": "light"
     },
     "output_type": "display_data"
    }
   ],
   "source": [
    "plt.figure(figsize=(15, 5))\n",
    "for i, col in enumerate(['MonthlyCharges', 'TotalCharges', 'SeniorCitizen']):\n",
    "    plt.subplot(1, 3, i + 1)\n",
    "    sns.boxplot(data=merged_data, y=col)\n",
    "    plt.title(f'Boxplot de {col}')\n",
    "    plt.ylabel(col)\n",
    "\n",
    "plt.tight_layout()\n",
    "plt.show()"
   ]
  },
  {
   "cell_type": "markdown",
   "id": "fd3f7c65",
   "metadata": {},
   "source": [
    "#### Conclusão intermediária\n",
    "Fiz uma fusão de todos os Daframes para trabalhar com apenas um DF, notei que há valores ausentes e posteriormente avaliarei como preencherei os valores ausentes e  não foram detectados outliers nas colunas numéricas, demosntrando que os valores das médias podem estar normalizados."
   ]
  },
  {
   "cell_type": "markdown",
   "id": "8d855414",
   "metadata": {},
   "source": [
    "### Vou avaliar através de gráficos de histograma e de correlação se há algum padrão no comportamento das variáveis numéricas dos clientes:"
   ]
  },
  {
   "cell_type": "code",
   "execution_count": null,
   "id": "bff6e7d3",
   "metadata": {},
   "outputs": [
    {
     "data": {
      "image/png": "[encoded data removed]",
      "text/plain": [
       "<Figure size 576x288 with 1 Axes>"
      ]
     },
     "metadata": {
      "needs_background": "light"
     },
     "output_type": "display_data"
    },
    {
     "data": {
      "image/png": "[encoded data removed]",
      "text/plain": [
       "<Figure size 576x288 with 1 Axes>"
      ]
     },
     "metadata": {
      "needs_background": "light"
     },
     "output_type": "display_data"
    },
    {
     "data": {
      "image/png": "[encoded data removed]",
      "text/plain": [
       "<Figure size 576x288 with 1 Axes>"
      ]
     },
     "metadata": {
      "needs_background": "light"
     },
     "output_type": "display_data"
    }
   ],
   "source": [
    "for col in numeric_cols.columns:\n",
    "    plt.figure(figsize=(8, 4))\n",
    "    sns.histplot(data=merged_data, x=col, bins=30)\n",
    "    plt.title(f'Histograma de {col}')\n",
    "    plt.show()"
   ]
  },
  {
   "cell_type": "markdown",
   "id": "677108ec",
   "metadata": {
    "scrolled": true
   },
   "source": [
    "#### Conclusão Intermediária\n",
    "Em nosso sistema, notamos que temos uma taxa de cobrança bastante elevada para os valores mais baixos. Isso nos indica a possibilidade de desenvolver planos com preços mais acessíveis, com o objetivo de atrair ou reter antigos clientes."
   ]
  },
  {
   "cell_type": "code",
   "execution_count": null,
   "id": "d5401090",
   "metadata": {},
   "outputs": [
    {
     "data": {
      "image/png": "[encoded data removed]",
      "text/plain": [
       "<Figure size 720x576 with 2 Axes>"
      ]
     },
     "metadata": {
      "needs_background": "light"
     },
     "output_type": "display_data"
    }
   ],
   "source": [
    "correlation_matrix = numeric_cols.corr()\n",
    "plt.figure(figsize=(10, 8))\n",
    "sns.heatmap(correlation_matrix, annot=True, cmap='coolwarm', fmt=\".2f\")\n",
    "plt.title('Matriz de Correlação')\n",
    "plt.show()"
   ]
  },
  {
   "cell_type": "markdown",
   "id": "3fb1d7c7",
   "metadata": {},
   "source": [
    "- Há uma correlação mais forte entre as colunas `TotalCharges` e `MonthlyCharges`..."
   ]
  },
  {
   "cell_type": "markdown",
   "id": "344d9c75",
   "metadata": {},
   "source": [
    "### Pré-processamento de dados:"
   ]
  },
  {
   "cell_type": "markdown",
   "id": "9550bd2d",
   "metadata": {},
   "source": [
    "#### Como foi notado anteriormente, há valores ausente no DataFrame `merged_data` por conta de associações"
   ]
  },
  {
   "cell_type": "code",
   "execution_count": null,
   "id": "d78cb833",
   "metadata": {},
   "outputs": [],
   "source": [
    "median_total_charges = merged_data['TotalCharges'].median()\n",
    "merged_data['TotalCharges'].fillna(median_total_charges, inplace=True)"
   ]
  },
  {
   "cell_type": "markdown",
   "id": "5e868c0c",
   "metadata": {},
   "source": [
    "* Foi utilizada a mediana para preencher onze valores que estavam ausentes na coluna, foi utilizada essa medida pois ela se aproxima melhor do valor real do que a média, que por sua vez possui uma influencia muito forte de possíveis valores atípicos."
   ]
  },
  {
   "cell_type": "markdown",
   "id": "280bb434",
   "metadata": {},
   "source": [
    "### Analise das colunas categóricas para entender como estão distribuidas os valores."
   ]
  },
  {
   "cell_type": "code",
   "execution_count": null,
   "id": "0e230d91",
   "metadata": {
    "scrolled": true
   },
   "outputs": [
    {
     "name": "stdout",
     "output_type": "stream",
     "text": [
      "Coluna: InternetService\n",
      "Fiber optic    3096\n",
      "DSL            2421\n",
      "Name: InternetService, dtype: int64\n",
      "\n",
      "\n",
      "Coluna: OnlineSecurity\n",
      "No     3498\n",
      "Yes    2019\n",
      "Name: OnlineSecurity, dtype: int64\n",
      "\n",
      "\n",
      "Coluna: OnlineBackup\n",
      "No     3088\n",
      "Yes    2429\n",
      "Name: OnlineBackup, dtype: int64\n",
      "\n",
      "\n",
      "Coluna: DeviceProtection\n",
      "No     3095\n",
      "Yes    2422\n",
      "Name: DeviceProtection, dtype: int64\n",
      "\n",
      "\n",
      "Coluna: TechSupport\n",
      "No     3473\n",
      "Yes    2044\n",
      "Name: TechSupport, dtype: int64\n",
      "\n",
      "\n",
      "Coluna: StreamingTV\n",
      "No     2810\n",
      "Yes    2707\n",
      "Name: StreamingTV, dtype: int64\n",
      "\n",
      "\n",
      "Coluna: StreamingMovies\n",
      "No     2785\n",
      "Yes    2732\n",
      "Name: StreamingMovies, dtype: int64\n",
      "\n",
      "\n",
      "Coluna: MultipleLines\n",
      "No     3390\n",
      "Yes    2971\n",
      "Name: MultipleLines, dtype: int64\n",
      "\n",
      "\n"
     ]
    }
   ],
   "source": [
    "columns_to_check = [\n",
    "    'InternetService',\n",
    "    'OnlineSecurity',\n",
    "    'OnlineBackup',\n",
    "    'DeviceProtection',\n",
    "    'TechSupport',\n",
    "    'StreamingTV',\n",
    "    'StreamingMovies',\n",
    "    'MultipleLines'\n",
    "]\n",
    "\n",
    "for col in columns_to_check:\n",
    "    top_categories = merged_data[col].value_counts()\n",
    "    print(f\"Coluna: {col}\")\n",
    "    print(top_categories)\n",
    "    print(\"\\n\")"
   ]
  },
  {
   "cell_type": "code",
   "execution_count": null,
   "id": "ed84e6de",
   "metadata": {},
   "outputs": [],
   "source": [
    "for col in columns_to_check:\n",
    "    merged_data[col].fillna('Desconhecido', inplace=True)"
   ]
  },
  {
   "cell_type": "markdown",
   "id": "0f317d62",
   "metadata": {},
   "source": [
    "#### conclusão intermediária\n",
    "\n",
    "Vi que os valores das colunas categóricas estão muito próximas, se eu realizasse um preenchimento com valores aleatórios ou com valores que mais se repetiam poderia influenciar no momento de predição, decidi colocar 'Desconhecido' para que não inflêncie caso eu utilize essas colunas."
   ]
  },
  {
   "cell_type": "markdown",
   "id": "ceceab1a",
   "metadata": {},
   "source": [
    "#### Verificação dos dados"
   ]
  },
  {
   "cell_type": "code",
   "execution_count": null,
   "id": "79c8426c",
   "metadata": {},
   "outputs": [
    {
     "name": "stdout",
     "output_type": "stream",
     "text": [
      "<class 'pandas.core.frame.DataFrame'>\n",
      "Int64Index: 7043 entries, 0 to 7042\n",
      "Data columns (total 20 columns):\n",
      " #   Column            Non-Null Count  Dtype         \n",
      "---  ------            --------------  -----         \n",
      " 0   customerID        7043 non-null   object        \n",
      " 1   BeginDate         7043 non-null   datetime64[ns]\n",
      " 2   EndDate           7043 non-null   object        \n",
      " 3   Type              7043 non-null   object        \n",
      " 4   PaperlessBilling  7043 non-null   object        \n",
      " 5   PaymentMethod     7043 non-null   object        \n",
      " 6   MonthlyCharges    7043 non-null   float64       \n",
      " 7   TotalCharges      7043 non-null   float64       \n",
      " 8   gender            7043 non-null   object        \n",
      " 9   SeniorCitizen     7043 non-null   int64         \n",
      " 10  Partner           7043 non-null   object        \n",
      " 11  Dependents        7043 non-null   object        \n",
      " 12  InternetService   7043 non-null   object        \n",
      " 13  OnlineSecurity    7043 non-null   object        \n",
      " 14  OnlineBackup      7043 non-null   object        \n",
      " 15  DeviceProtection  7043 non-null   object        \n",
      " 16  TechSupport       7043 non-null   object        \n",
      " 17  StreamingTV       7043 non-null   object        \n",
      " 18  StreamingMovies   7043 non-null   object        \n",
      " 19  MultipleLines     7043 non-null   object        \n",
      "dtypes: datetime64[ns](1), float64(2), int64(1), object(16)\n",
      "memory usage: 1.1+ MB\n"
     ]
    }
   ],
   "source": [
    "merged_data.info()"
   ]
  },
  {
   "cell_type": "markdown",
   "id": "8c3a0b7a",
   "metadata": {},
   "source": [
    "- Foram analisados as colunas e os tipos dos dados continuam com as modificações realizadas"
   ]
  },
  {
   "cell_type": "markdown",
   "id": "0ecba6d5",
   "metadata": {},
   "source": [
    "### Será criado uma coluna 'Churn' como variável alvo binária (1 para cancelamento, 0 para não cancelamento)"
   ]
  },
  {
   "cell_type": "code",
   "execution_count": null,
   "id": "d743a388",
   "metadata": {},
   "outputs": [],
   "source": [
    "merged_data['Churn'] = (merged_data['EndDate'] != 'No').astype(int)"
   ]
  },
  {
   "cell_type": "markdown",
   "id": "03933e5c",
   "metadata": {},
   "source": [
    "## Divisão de dados e construção de modelo:"
   ]
  },
  {
   "cell_type": "code",
   "execution_count": null,
   "id": "d8e98506",
   "metadata": {},
   "outputs": [],
   "source": [
    "categorical_columns = ['Type', 'PaperlessBilling', 'PaymentMethod', 'gender', 'Partner', 'Dependents', 'InternetService', 'OnlineSecurity', 'OnlineBackup', 'DeviceProtection', 'TechSupport', 'StreamingTV', 'StreamingMovies', 'MultipleLines']\n",
    "\n",
    "X_categorical = pd.get_dummies(merged_data[categorical_columns], drop_first=True)\n",
    "\n",
    "X_numeric = merged_data[['MonthlyCharges', 'TotalCharges', 'SeniorCitizen']]\n",
    "\n",
    "X = pd.concat([X_categorical, X_numeric], axis=1)\n",
    "\n",
    "y = merged_data['Churn']\n",
    "\n",
    "X_train, X_test, y_train, y_test = train_test_split(X, y, test_size=0.2, random_state=42)"
   ]
  },
  {
   "cell_type": "markdown",
   "id": "a35f7998",
   "metadata": {},
   "source": [
    "* O código acima prepara os dados para um modelo de aprendizado de máquina ao codificar variáveis categóricas, selecionar variáveis numéricas relevantes e dividir os dados em conjuntos de treinamento e teste."
   ]
  },
  {
   "cell_type": "markdown",
   "id": "07d66fc7",
   "metadata": {},
   "source": [
    "## Construção do modelo:"
   ]
  },
  {
   "cell_type": "code",
   "execution_count": null,
   "id": "5701fd41",
   "metadata": {},
   "outputs": [
    {
     "name": "stdout",
     "output_type": "stream",
     "text": [
      "Acurácia: 0.82\n",
      "Precisão: 0.68\n",
      "Recall: 0.58\n",
      "F1-Score: 0.63\n",
      "Área sob a curva ROC: 0.74\n"
     ]
    }
   ],
   "source": [
    "target_column = 'Churn'\n",
    "\n",
    "categorical_cols = X_train.select_dtypes(include=['object']).columns\n",
    "label_encoder = LabelEncoder()\n",
    "for col in categorical_cols:\n",
    "    X_train[col] = label_encoder.fit_transform(X_train[col])\n",
    "    X_test[col] = label_encoder.transform(X_test[col])\n",
    "\n",
    "scaler = StandardScaler()\n",
    "X_train = scaler.fit_transform(X_train)\n",
    "X_test = scaler.transform(X_test)\n",
    "\n",
    "model_churn = LogisticRegression()\n",
    "model_churn.fit(X_train, y_train)\n",
    "\n",
    "y_pred = model_churn.predict(X_test)\n",
    "\n",
    "accuracy = accuracy_score(y_test, y_pred)\n",
    "precision = precision_score(y_test, y_pred)\n",
    "recall = recall_score(y_test, y_pred)\n",
    "f1 = f1_score(y_test, y_pred)\n",
    "roc_auc = roc_auc_score(y_test, y_pred)\n",
    "\n",
    "print(f'Acurácia: {accuracy:.2f}')\n",
    "print(f'Precisão: {precision:.2f}')\n",
    "print(f'Recall: {recall:.2f}')\n",
    "print(f'F1-Score: {f1:.2f}')\n",
    "print(f'Área sob a curva ROC: {roc_auc:.2f}')\n"
   ]
  },
  {
   "cell_type": "markdown",
   "id": "bd86d9f6",
   "metadata": {},
   "source": [
    "* Este código é um exemplo de como construir, treinar e avaliar um modelo de Regressão Logística para prever a rotatividade (`Churn`) com base nos recursos fornecidos. As métricas de avaliação fornecem informações sobre o quão bem o modelo está se saindo na tarefa de classificação binária."
   ]
  },
  {
   "cell_type": "markdown",
   "id": "d351dd2e",
   "metadata": {},
   "source": [
    "### Validação Cruzada:"
   ]
  },
  {
   "cell_type": "code",
   "execution_count": null,
   "id": "d005534e",
   "metadata": {},
   "outputs": [
    {
     "name": "stdout",
     "output_type": "stream",
     "text": [
      "Acurácia média na validação cruzada: 0.80\n",
      "Desvio padrão das pontuações: 0.01\n"
     ]
    }
   ],
   "source": [
    "model = LogisticRegression()\n",
    "\n",
    "cv_scores = cross_val_score(model, X_train, y_train, cv=5, scoring='accuracy')\n",
    "\n",
    "mean_cv_score = cv_scores.mean()\n",
    "std_cv_score = cv_scores.std()\n",
    "\n",
    "print(f'Acurácia média na validação cruzada: {mean_cv_score:.2f}')\n",
    "print(f'Desvio padrão das pontuações: {std_cv_score:.2f}')\n"
   ]
  },
  {
   "cell_type": "code",
   "execution_count": null,
   "id": "58723378",
   "metadata": {},
   "outputs": [
    {
     "name": "stdout",
     "output_type": "stream",
     "text": [
      "Acurácia média na validação cruzada: 0.83\n",
      "Desvio padrão das pontuações: 0.01\n"
     ]
    }
   ],
   "source": [
    "model = LogisticRegression()\n",
    "\n",
    "cv_scores = cross_val_score(model, X_train, y_train, cv=5, scoring='roc_auc')\n",
    "\n",
    "mean_cv_score = cv_scores.mean()\n",
    "std_cv_score = cv_scores.std()\n",
    "\n",
    "print(f'Acurácia média na validação cruzada: {mean_cv_score:.2f}')\n",
    "print(f'Desvio padrão das pontuações: {std_cv_score:.2f}')\n"
   ]
  },
  {
   "cell_type": "markdown",
   "id": "c6e3abfd",
   "metadata": {},
   "source": [
    "* O código dá uma estimativa de quão bem o modelo de Regressão Logística está performando em termos de acurácia, levando em consideração a validação cruzada. A acurácia média indica o desempenho médio do modelo em todos os folds, enquanto o desvio padrão das pontuações dá uma ideia da variabilidade do desempenho em diferentes conjuntos de dados de treinamento e teste."
   ]
  },
  {
   "cell_type": "markdown",
   "id": "3d594cd1",
   "metadata": {},
   "source": [
    "## Conclusão"
   ]
  },
  {
   "cell_type": "markdown",
   "id": "53cd832f",
   "metadata": {},
   "source": [
    "\n",
    "\n",
    "\n",
    "### Acurácia do Modelo:\n",
    "\n",
    "* A acurácia do modelo no conjunto de teste é de aproximadamente 82%. Isso significa que o modelo classificou corretamente 82% das instâncias no conjunto de teste.\n",
    "\n",
    "### Métricas de Classificação:\n",
    "\n",
    "* **Precisão (Precision):** A precisão do modelo é de aproximadamente 68%. Isso indica que, das instâncias que o modelo classificou como positivas, 68% delas eram realmente positivas. Em outras palavras, o modelo tem uma boa capacidade de evitar falsos positivos.\n",
    "\n",
    "* **Recall (Revocação ou Sensibilidade):** O recall é de aproximadamente 58%. Isso significa que o modelo identificou corretamente 58% de todas as instâncias positivas no conjunto de teste. O recall é importante quando é crucial evitar falsos negativos (excluir erroneamente instâncias positivas).\n",
    "\n",
    "* **F1-Score:** O F1-Score, que é a média harmônica entre precisão e recall, é de aproximadamente 63%. É uma métrica útil para encontrar um equilíbrio entre precisão e recall.\n",
    "\n",
    "* **Área sob a curva ROC (ROC AUC):** A ROC AUC é de aproximadamente 74%. Esta métrica avalia a capacidade do modelo de distinguir entre as classes positiva e negativa. Quanto mais próximo de 1, melhor é o desempenho.\n",
    "\n",
    "### Validação Cruzada:\n",
    "\n",
    "* A acurácia média na validação cruzada é de aproximadamente 80%, com um desvio padrão de 1%. Isso sugere que o modelo é consistente em termos de desempenho em diferentes conjuntos de treinamento e teste.\n",
    "\n",
    "Em resumo, o modelo tem uma boa acurácia geral, mas a precisão e o recall indicam que há espaço para melhorias, especialmente em identificar corretamente as instâncias positivas. A validação cruzada mostra que o desempenho do modelo é relativamente estável em diferentes conjuntos de dados. Pode ser interessante considerar ajustes no modelo ou na seleção de características para melhorar o desempenho nas métricas específicas de interesse."
   ]
  }
 ],
 "metadata": {
  "kernelspec": {
   "display_name": "Python 3 (ipykernel)",
   "language": "python",
   "name": "python3"
  },
  "language_info": {
   "codemirror_mode": {
    "name": "ipython",
    "version": 3
   },
   "file_extension": ".py",
   "mimetype": "text/x-python",
   "name": "python",
   "nbconvert_exporter": "python",
   "pygments_lexer": "ipython3",
   "version": "3.11.3"
  },
  "toc": {
   "base_numbering": 1,
   "nav_menu": {},
   "number_sections": true,
   "sideBar": true,
   "skip_h1_title": true,
   "title_cell": "Table of Contents",
   "title_sidebar": "Contents",
   "toc_cell": false,
   "toc_position": {},
   "toc_section_display": true,
   "toc_window_display": false
  }
 },
 "nbformat": 4,
 "nbformat_minor": 5
}
